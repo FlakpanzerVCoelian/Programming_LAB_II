{
 "cells": [
  {
   "cell_type": "markdown",
   "metadata": {},
   "source": [
    "### **1. Trasformare cicli in list comprehension**\n",
    "\n",
    "Fai tre esempi di cicli producono una lista e poi riscrivi lo stesso codice usando la list comprehension"
   ]
  },
  {
   "cell_type": "code",
   "execution_count": 11,
   "metadata": {},
   "outputs": [
    {
     "name": "stdout",
     "output_type": "stream",
     "text": [
      "['d', 'f', 'h', 'j', 'l', 'n', 'p', 'r', 't', 'v', 'x'] ['d', 'f', 'h', 'j', 'l', 'n', 'p', 'r', 't', 'v', 'x']\n",
      "[1, 1, 4, 27, 256] [1, 1, 4, 27, 256]\n",
      "[47, 50, 11, 4, 30, 16, 24, 32, 39, 42, 28, 33, 15] [32, 16, 42, 48, 33, 19, 37, 44, 44, 24, 7, 24, 10, 14, 40, 8, 48, 32, 38, 2, 50, 29, 23, 39, 10, 7, 39, 14, 14, 46, 17, 32, 35, 43, 37, 49, 28, 21, 12, 36, 7, 29, 5, 10, 35, 43, 34, 14, 50, 25, 34, 19, 15, 29, 14, 37, 30, 10, 21, 47, 50, 14, 31, 33, 32, 36, 35, 10, 32, 47, 5, 6, 34, 36, 4, 38, 20, 42, 34, 18, 15, 27, 38, 16, 37, 37, 8, 27, 26, 20, 11, 45, 14, 3, 12, 31, 14, 49, 37, 4, 39, 4, 37, 20, 11, 8, 46, 47, 20, 13, 47, 9, 40, 6, 18, 10, 14, 18, 23, 20, 7, 8, 17, 8, 6, 5, 48, 43, 11, 43, 34, 4, 8, 27, 9, 39, 32, 27, 6]\n"
     ]
    }
   ],
   "source": [
    "from random import *\n",
    "\n",
    "l1 = []\n",
    "for i in range (100, 122, 2):\n",
    "    l1.append(chr(i))\n",
    "l1lc = [chr(i) for i in range (100, 122, 2)]\n",
    "\n",
    "print(l1, l1lc)\n",
    "\n",
    "l2 = []\n",
    "for i in range(9):\n",
    "    if i**i < 1000:\n",
    "        l2.append(i**i)\n",
    "l2lc = [i**i for i in range (39) if i**i < 1000]\n",
    "\n",
    "print(l2, l2lc)\n",
    "\n",
    "l3 = []\n",
    "m = randint(2, 50)\n",
    "while m != 22:\n",
    "    l3.append(m)\n",
    "    m = randint(2, 50)\n",
    "\n",
    "def whl ():\n",
    "    m = randint(2, 50)\n",
    "    while m != 22:\n",
    "        yield m\n",
    "        m = randint(2, 50)\n",
    "\n",
    "l3lc = [i for i in whl()]\n",
    "\n",
    "print (l3, l3lc)\n"
   ]
  },
  {
   "cell_type": "markdown",
   "metadata": {},
   "source": [
    "### **2. Vettore di Numeri Primi**\n",
    "\n",
    "1. **Crea un vettore** contenente tutti i numeri primi compresi tra **0 e 10**  \n",
    "   _(Puoi scriverli direttamente nell'array)._\n",
    "\n",
    "2. **Conta quanti numeri ci sono nel vettore** utilizzando la funzione `len()`.  **Ottieni lo stesso numero** accedendo all'attributo `.size` del vettore.\n",
    "\n",
    "3. Quale pensi sia il tipo di dato (`dtype`) del vettore?  Prova a rispondere senza eseguire il codice e Verifica la tua risposta accedendo all'attributo `.dtype` del vettore\n",
    "\n",
    "4. Scrivi l'array usando una list comprehension che controlla che i numeri siano primi. "
   ]
  },
  {
   "cell_type": "code",
   "execution_count": null,
   "metadata": {},
   "outputs": [
    {
     "name": "stdout",
     "output_type": "stream",
     "text": [
      "[2 3 5 7] 4 4\n",
      "[2 3 5 7]\n"
     ]
    }
   ],
   "source": [
    "import numpy\n",
    "from math import *\n",
    "\n",
    "l1 = []\n",
    "for i in range (2, 10):\n",
    "    pr = True\n",
    "    for j in range (2, i):\n",
    "        if i % j == 0:\n",
    "            pr = False\n",
    "    if pr:\n",
    "        l1.append(i)\n",
    "a1 = numpy.array(l1)\n",
    "print(a1, len(a1), a1.size)\n",
    "#dtype ritornera il tipo del vettore (int) seguito dalla grandezza in bit di ogni elemento (64)\n",
    "a1.dtype #INT 32?!?!?!\n",
    "\n",
    "a1lc = numpy.array([x for x in range(2, 10) if  all(x % y != 0 for y in range(2, x))])\n",
    "print(a1lc)"
   ]
  },
  {
   "cell_type": "markdown",
   "metadata": {},
   "source": [
    "### **3.  Operazioni su array**\n",
    "Crea un array **a**, 1D (senza digitarlo esplicitamente), e genera due nuovi array **b**, contenente una sottostringa a piacere e **c** che è il reverse dell'array **a** (esempio [1,2,3] diventa [3,2,1]) .  Dividi l'array **a** per l'array **c**. Fai la stessa cosa per una lista."
   ]
  },
  {
   "cell_type": "code",
   "execution_count": 15,
   "metadata": {},
   "outputs": [
    {
     "name": "stdout",
     "output_type": "stream",
     "text": [
      "[2 3 5 7] fwey [7 5 3 2]\n",
      "[0.28571429 0.6        1.66666667 3.5       ]\n",
      "[2, 3, 5, 7] ['f', 'w', 'e', 'y'] [7, 5, 3, 2]\n",
      "0.2857142857142857 0.6 1.6666666666666667 3.5 "
     ]
    }
   ],
   "source": [
    "import numpy\n",
    "a = numpy.array([x for x in range(2, 10) if  all(x % y != 0 for y in range(2, x))])\n",
    "b = numpy.array(\"fwey\")\n",
    "c = numpy.flip(a)\n",
    "print(a, b, c)\n",
    "print(a/c)\n",
    "la = [x for x in range(2, 10) if  all(x % y != 0 for y in range(2, x))]\n",
    "lb = list(\"fwey\")\n",
    "lc = la[::-1]\n",
    "print(la, lb, lc)\n",
    "for i in range(len(la)):\n",
    "    print(la[i] / lc[i], end = \" \")"
   ]
  }
 ],
 "metadata": {
  "kernelspec": {
   "display_name": "base",
   "language": "python",
   "name": "python3"
  },
  "language_info": {
   "codemirror_mode": {
    "name": "ipython",
    "version": 3
   },
   "file_extension": ".py",
   "mimetype": "text/x-python",
   "name": "python",
   "nbconvert_exporter": "python",
   "pygments_lexer": "ipython3",
   "version": "3.12.7"
  }
 },
 "nbformat": 4,
 "nbformat_minor": 2
}
